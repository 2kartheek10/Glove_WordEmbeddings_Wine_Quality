{
  "nbformat": 4,
  "nbformat_minor": 0,
  "metadata": {
    "colab": {
      "name": "Compare_BOW_PretrainedGloveembeddings.ipynb",
      "provenance": []
    },
    "kernelspec": {
      "name": "python3",
      "display_name": "Python 3"
    }
  },
  "cells": [
    {
      "cell_type": "code",
      "metadata": {
        "id": "O0yyHwZk8Pas",
        "colab": {
          "base_uri": "https://localhost:8080/"
        },
        "outputId": "40fc8371-1688-4c9e-a3dd-1bc6416ac9ee"
      },
      "source": [
        "from google.colab import drive\n",
        "drive.mount('/content/gdrive')"
      ],
      "execution_count": 1,
      "outputs": [
        {
          "output_type": "stream",
          "text": [
            "Drive already mounted at /content/gdrive; to attempt to forcibly remount, call drive.mount(\"/content/gdrive\", force_remount=True).\n"
          ],
          "name": "stdout"
        }
      ]
    },
    {
      "cell_type": "code",
      "metadata": {
        "id": "uoVskTNOpEk4"
      },
      "source": [
        "import torch\n",
        "import torch.nn as nn\n",
        "\n",
        "import numpy as np\n",
        "import matplotlib.pyplot as plt\n",
        "import seaborn as sns\n",
        "from sklearn.metrics import confusion_matrix\n",
        "from datetime import datetime\n",
        "from pathlib import Path\n",
        "import pandas as pd\n",
        "from nltk.tokenize import TreebankWordTokenizer\n",
        "from nltk.stem.porter import PorterStemmer\n",
        "from sklearn.feature_extraction.text import CountVectorizer"
      ],
      "execution_count": 2,
      "outputs": []
    },
    {
      "cell_type": "code",
      "metadata": {
        "id": "2OmWCfGopBUL"
      },
      "source": [
        "folder = Path(\"/content/gdrive/My Drive/NLP/Homeworks/HW2/data\")\n"
      ],
      "execution_count": 3,
      "outputs": []
    },
    {
      "cell_type": "code",
      "metadata": {
        "id": "LvQNYkbKpNs3"
      },
      "source": [
        "public_data = pd.read_csv(folder/\"public.csv\")\n",
        "private_data = pd.read_csv(folder/\"private.csv\")\n",
        "train_data = pd.read_csv(folder/\"train.csv\")"
      ],
      "execution_count": 4,
      "outputs": []
    },
    {
      "cell_type": "markdown",
      "metadata": {
        "id": "OExP2X3YpRXe"
      },
      "source": [
        "First Preprocess the data"
      ]
    },
    {
      "cell_type": "code",
      "metadata": {
        "id": "GHo4TRtzpPgy",
        "colab": {
          "base_uri": "https://localhost:8080/"
        },
        "outputId": "b3efd29d-d2ce-4df9-c06f-45c3b1992c64"
      },
      "source": [
        "public_data.info()"
      ],
      "execution_count": 5,
      "outputs": [
        {
          "output_type": "stream",
          "text": [
            "<class 'pandas.core.frame.DataFrame'>\n",
            "RangeIndex: 20001 entries, 0 to 20000\n",
            "Data columns (total 15 columns):\n",
            " #   Column                 Non-Null Count  Dtype  \n",
            "---  ------                 --------------  -----  \n",
            " 0   Id                     20001 non-null  int64  \n",
            " 1   country                19992 non-null  object \n",
            " 2   description            20001 non-null  object \n",
            " 3   designation            14201 non-null  object \n",
            " 4   points                 20001 non-null  int64  \n",
            " 5   price                  18523 non-null  float64\n",
            " 6   province               19992 non-null  object \n",
            " 7   region_1               16870 non-null  object \n",
            " 8   region_2               7830 non-null   object \n",
            " 9   taster_name            15924 non-null  object \n",
            " 10  taster_twitter_handle  15196 non-null  object \n",
            " 11  title                  20001 non-null  object \n",
            " 12  variety                20000 non-null  object \n",
            " 13  winery                 20001 non-null  object \n",
            " 14  Unnamed: 14            1 non-null      float64\n",
            "dtypes: float64(2), int64(2), object(11)\n",
            "memory usage: 2.3+ MB\n"
          ],
          "name": "stdout"
        }
      ]
    },
    {
      "cell_type": "code",
      "metadata": {
        "id": "CnR_G-SFpqFd"
      },
      "source": [
        "#column 14 has only one non-null. we will drop this column as it is not useful.\n",
        "public_data = public_data.drop(public_data.columns[14],axis=1)"
      ],
      "execution_count": 6,
      "outputs": []
    },
    {
      "cell_type": "code",
      "metadata": {
        "id": "-aU842W_qftN",
        "colab": {
          "base_uri": "https://localhost:8080/",
          "height": 614
        },
        "outputId": "08e60c9d-cd13-4bba-eb2d-6a781d168cf7"
      },
      "source": [
        "# Lets have a look at the data\n",
        "train_data.head()"
      ],
      "execution_count": 7,
      "outputs": [
        {
          "output_type": "execute_result",
          "data": {
            "text/html": [
              "<div>\n",
              "<style scoped>\n",
              "    .dataframe tbody tr th:only-of-type {\n",
              "        vertical-align: middle;\n",
              "    }\n",
              "\n",
              "    .dataframe tbody tr th {\n",
              "        vertical-align: top;\n",
              "    }\n",
              "\n",
              "    .dataframe thead th {\n",
              "        text-align: right;\n",
              "    }\n",
              "</style>\n",
              "<table border=\"1\" class=\"dataframe\">\n",
              "  <thead>\n",
              "    <tr style=\"text-align: right;\">\n",
              "      <th></th>\n",
              "      <th>Id</th>\n",
              "      <th>country</th>\n",
              "      <th>description</th>\n",
              "      <th>designation</th>\n",
              "      <th>points</th>\n",
              "      <th>price</th>\n",
              "      <th>province</th>\n",
              "      <th>region_1</th>\n",
              "      <th>region_2</th>\n",
              "      <th>taster_name</th>\n",
              "      <th>taster_twitter_handle</th>\n",
              "      <th>title</th>\n",
              "      <th>variety</th>\n",
              "      <th>winery</th>\n",
              "    </tr>\n",
              "  </thead>\n",
              "  <tbody>\n",
              "    <tr>\n",
              "      <th>0</th>\n",
              "      <td>69712</td>\n",
              "      <td>France</td>\n",
              "      <td>A buoyant wine, this has delicious acidity and...</td>\n",
              "      <td>La Riviera</td>\n",
              "      <td>89</td>\n",
              "      <td>17.0</td>\n",
              "      <td>Provence</td>\n",
              "      <td>Côtes de Provence</td>\n",
              "      <td>NaN</td>\n",
              "      <td>Roger Voss</td>\n",
              "      <td>@vossroger</td>\n",
              "      <td>Domaine de la Sanglière 2015 La Riviera Rosé (...</td>\n",
              "      <td>Rosé</td>\n",
              "      <td>Domaine de la Sanglière</td>\n",
              "    </tr>\n",
              "    <tr>\n",
              "      <th>1</th>\n",
              "      <td>1171</td>\n",
              "      <td>Germany</td>\n",
              "      <td>Despite weighing in at 12% alcohol, this seems...</td>\n",
              "      <td>Niersteiner Bergkirche Kabinett</td>\n",
              "      <td>86</td>\n",
              "      <td>20.0</td>\n",
              "      <td>Rheinhessen</td>\n",
              "      <td>NaN</td>\n",
              "      <td>NaN</td>\n",
              "      <td>Joe Czerwinski</td>\n",
              "      <td>@JoeCz</td>\n",
              "      <td>Louis Guntrum 2006 Niersteiner Bergkirche Kabi...</td>\n",
              "      <td>Riesling</td>\n",
              "      <td>Louis Guntrum</td>\n",
              "    </tr>\n",
              "    <tr>\n",
              "      <th>2</th>\n",
              "      <td>129181</td>\n",
              "      <td>US</td>\n",
              "      <td>Sweet, simple and fruity, this light-bodied wi...</td>\n",
              "      <td>Estate</td>\n",
              "      <td>84</td>\n",
              "      <td>23.0</td>\n",
              "      <td>California</td>\n",
              "      <td>Sierra Foothills</td>\n",
              "      <td>Sierra Foothills</td>\n",
              "      <td>Jim Gordon</td>\n",
              "      <td>@gordone_cellars</td>\n",
              "      <td>Naggiar 2016 Estate Muscat Canelli (Sierra Foo...</td>\n",
              "      <td>Muscat Canelli</td>\n",
              "      <td>Naggiar</td>\n",
              "    </tr>\n",
              "    <tr>\n",
              "      <th>3</th>\n",
              "      <td>116814</td>\n",
              "      <td>US</td>\n",
              "      <td>Tastes like a sweet and sour sauce mixed into ...</td>\n",
              "      <td>NaN</td>\n",
              "      <td>84</td>\n",
              "      <td>19.0</td>\n",
              "      <td>California</td>\n",
              "      <td>California</td>\n",
              "      <td>California Other</td>\n",
              "      <td>NaN</td>\n",
              "      <td>NaN</td>\n",
              "      <td>One Hope 2009 Sauvignon Blanc (California)</td>\n",
              "      <td>Sauvignon Blanc</td>\n",
              "      <td>One Hope</td>\n",
              "    </tr>\n",
              "    <tr>\n",
              "      <th>4</th>\n",
              "      <td>116519</td>\n",
              "      <td>Spain</td>\n",
              "      <td>As a one-liter package you get one-third more ...</td>\n",
              "      <td>NaN</td>\n",
              "      <td>86</td>\n",
              "      <td>9.0</td>\n",
              "      <td>Central Spain</td>\n",
              "      <td>Vino de la Tierra de Castilla</td>\n",
              "      <td>NaN</td>\n",
              "      <td>Michael Schachner</td>\n",
              "      <td>@wineschach</td>\n",
              "      <td>Bodegas Eguren 2007 Tempranillo (Vino de la Ti...</td>\n",
              "      <td>Tempranillo</td>\n",
              "      <td>Bodegas Eguren</td>\n",
              "    </tr>\n",
              "  </tbody>\n",
              "</table>\n",
              "</div>"
            ],
            "text/plain": [
              "       Id  country  ...          variety                   winery\n",
              "0   69712   France  ...             Rosé  Domaine de la Sanglière\n",
              "1    1171  Germany  ...         Riesling            Louis Guntrum\n",
              "2  129181       US  ...   Muscat Canelli                  Naggiar\n",
              "3  116814       US  ...  Sauvignon Blanc                 One Hope\n",
              "4  116519    Spain  ...      Tempranillo           Bodegas Eguren\n",
              "\n",
              "[5 rows x 14 columns]"
            ]
          },
          "metadata": {
            "tags": []
          },
          "execution_count": 7
        }
      ]
    },
    {
      "cell_type": "markdown",
      "metadata": {
        "id": "RVjXEmkXpvUW"
      },
      "source": [
        "Exploring Training Data"
      ]
    },
    {
      "cell_type": "code",
      "metadata": {
        "id": "OK65sYdyptfd",
        "colab": {
          "base_uri": "https://localhost:8080/"
        },
        "outputId": "5f0bd388-6701-4d9e-b67a-4282f8b453f5"
      },
      "source": [
        "# no of records in training data\n",
        "print(\"No of records in training data: \", train_data.shape[0])\n"
      ],
      "execution_count": 8,
      "outputs": [
        {
          "output_type": "stream",
          "text": [
            "No of records in training data:  89970\n"
          ],
          "name": "stdout"
        }
      ]
    },
    {
      "cell_type": "code",
      "metadata": {
        "id": "_EsrayCIqwhw",
        "colab": {
          "base_uri": "https://localhost:8080/"
        },
        "outputId": "3577645a-2752-44ea-84c0-c56fdfeb9248"
      },
      "source": [
        "print(\"Number of records with the duplicate title and description: \", train_data[train_data.duplicated(subset=['description','title'], keep=False)].shape[0])"
      ],
      "execution_count": 9,
      "outputs": [
        {
          "output_type": "stream",
          "text": [
            "Number of records with the duplicate title and description:  9592\n"
          ],
          "name": "stdout"
        }
      ]
    },
    {
      "cell_type": "code",
      "metadata": {
        "id": "c6nvS36-rbbk"
      },
      "source": [
        "#Lets drop duplicate records\n",
        "train_data=train_data.drop_duplicates(['description','title'])\n",
        "train_data=train_data.reset_index(drop=True)"
      ],
      "execution_count": 10,
      "outputs": []
    },
    {
      "cell_type": "code",
      "metadata": {
        "id": "su9KAkPUrtCr",
        "colab": {
          "base_uri": "https://localhost:8080/"
        },
        "outputId": "d4f50de5-cbc3-4ebb-e4a6-d572784db555"
      },
      "source": [
        "train_data.shape"
      ],
      "execution_count": 11,
      "outputs": [
        {
          "output_type": "execute_result",
          "data": {
            "text/plain": [
              "(85174, 14)"
            ]
          },
          "metadata": {
            "tags": []
          },
          "execution_count": 11
        }
      ]
    },
    {
      "cell_type": "markdown",
      "metadata": {
        "id": "fHP3P1b1yixU"
      },
      "source": [
        "Look for Missing data"
      ]
    },
    {
      "cell_type": "code",
      "metadata": {
        "id": "VjftaNd2yk6T",
        "colab": {
          "base_uri": "https://localhost:8080/"
        },
        "outputId": "29975772-843f-48af-f440-942e7ed963ad"
      },
      "source": [
        "# following code gives percentage of missing data in all columns\n",
        "for var in train_data.columns:\n",
        "  print(var,(train_data[var].isnull().sum()/len(train_data)*100))"
      ],
      "execution_count": 12,
      "outputs": [
        {
          "output_type": "stream",
          "text": [
            "Id 0.0\n",
            "country 0.04813675534787611\n",
            "description 0.0\n",
            "designation 28.727076337849578\n",
            "points 0.0\n",
            "price 6.889426350764317\n",
            "province 0.04813675534787611\n",
            "region_1 16.436940850494285\n",
            "region_2 61.1055016789161\n",
            "taster_name 20.54852419752507\n",
            "taster_twitter_handle 24.371287012468592\n",
            "title 0.0\n",
            "variety 0.0\n",
            "winery 0.0\n"
          ],
          "name": "stdout"
        }
      ]
    },
    {
      "cell_type": "markdown",
      "metadata": {
        "id": "3rNi2jH7y1zA"
      },
      "source": [
        "Bag of Words and simple Features "
      ]
    },
    {
      "cell_type": "markdown",
      "metadata": {
        "id": "aFvjC-zSzA-8"
      },
      "source": [
        "## 1.\tCreate a baseline model for predicting wine quality using only non-review based features."
      ]
    },
    {
      "cell_type": "code",
      "metadata": {
        "id": "DfJMxFXty4Xa"
      },
      "source": [
        "#Drop columns that are review based\n",
        "train_data = train_data.drop(columns = [\"Id\",\"description\",\"region_2\",\"taster_name\",\"taster_twitter_handle\"])"
      ],
      "execution_count": 13,
      "outputs": []
    },
    {
      "cell_type": "code",
      "metadata": {
        "id": "hbcgL3h6zLNF"
      },
      "source": [
        "train_data = train_data.drop(columns=[\"title\"])"
      ],
      "execution_count": 14,
      "outputs": []
    },
    {
      "cell_type": "code",
      "metadata": {
        "id": "2vqxwbppzRG-"
      },
      "source": [
        "# Seperate all the columns into categorical and numerical\n",
        "categorical = [var for var in train_data.columns if train_data[var].dtype=='O']\n",
        "numerical = [var for var in train_data.columns if var not in categorical]"
      ],
      "execution_count": 15,
      "outputs": []
    },
    {
      "cell_type": "code",
      "metadata": {
        "id": "vIapif2BdEGj",
        "colab": {
          "base_uri": "https://localhost:8080/",
          "height": 296
        },
        "outputId": "98b61512-7097-41ba-c07a-acbf951c7db5"
      },
      "source": [
        "sns.countplot(x ='country', data = train_data,order=train_data[\"country\"].value_counts().iloc[:7].index) \n"
      ],
      "execution_count": 16,
      "outputs": [
        {
          "output_type": "execute_result",
          "data": {
            "text/plain": [
              "<matplotlib.axes._subplots.AxesSubplot at 0x7f18d9ec0668>"
            ]
          },
          "metadata": {
            "tags": []
          },
          "execution_count": 16
        },
        {
          "output_type": "display_data",
          "data": {
            "image/png": "[encoded data removed]",
            "text/plain": [
              "<Figure size 432x288 with 1 Axes>"
            ]
          },
          "metadata": {
            "tags": [],
            "needs_background": "light"
          }
        }
      ]
    },
    {
      "cell_type": "code",
      "metadata": {
        "id": "KCGO1S70eSmo",
        "colab": {
          "base_uri": "https://localhost:8080/",
          "height": 296
        },
        "outputId": "2edc70d0-56cf-4df1-f66f-f88f4cd0f573"
      },
      "source": [
        "sns.countplot(x ='variety', data = train_data,order=train_data[\"variety\"].value_counts().iloc[:3].index) \n"
      ],
      "execution_count": 17,
      "outputs": [
        {
          "output_type": "execute_result",
          "data": {
            "text/plain": [
              "<matplotlib.axes._subplots.AxesSubplot at 0x7f18d9e02a58>"
            ]
          },
          "metadata": {
            "tags": []
          },
          "execution_count": 17
        },
        {
          "output_type": "display_data",
          "data": {
            "image/png": "[encoded data removed]",
            "text/plain": [
              "<Figure size 432x288 with 1 Axes>"
            ]
          },
          "metadata": {
            "tags": [],
            "needs_background": "light"
          }
        }
      ]
    },
    {
      "cell_type": "code",
      "metadata": {
        "id": "FraQCfO4zkQv",
        "colab": {
          "base_uri": "https://localhost:8080/"
        },
        "outputId": "68bf3a17-08d7-4988-b17c-327df1c13ea7"
      },
      "source": [
        "from sklearn.model_selection import train_test_split\n",
        "X_train, X_val, y_train, y_val = train_test_split(train_data.drop(['points'], axis=1),\n",
        "                                                    train_data['points'],\n",
        "                                                    test_size=0.2,\n",
        "                                                    random_state=0)\n",
        "\n",
        "X_train.shape, X_val.shape"
      ],
      "execution_count": 18,
      "outputs": [
        {
          "output_type": "execute_result",
          "data": {
            "text/plain": [
              "((68139, 7), (17035, 7))"
            ]
          },
          "metadata": {
            "tags": []
          },
          "execution_count": 18
        }
      ]
    },
    {
      "cell_type": "code",
      "metadata": {
        "id": "epUOkiSQz-9k"
      },
      "source": [
        "numerical = numerical.remove(\"points\")"
      ],
      "execution_count": 19,
      "outputs": []
    },
    {
      "cell_type": "code",
      "metadata": {
        "id": "q_s_9e82Bm3d",
        "colab": {
          "base_uri": "https://localhost:8080/"
        },
        "outputId": "8248e421-5ffa-427c-e82a-83ce96d27d1a"
      },
      "source": [
        "!pip install feature_engine"
      ],
      "execution_count": 20,
      "outputs": [
        {
          "output_type": "stream",
          "text": [
            "Requirement already satisfied: feature_engine in /usr/local/lib/python3.6/dist-packages (1.0.0)\n",
            "Requirement already satisfied: scipy>=1.4.1 in /usr/local/lib/python3.6/dist-packages (from feature_engine) (1.4.1)\n",
            "Requirement already satisfied: scikit-learn>=0.22.2 in /usr/local/lib/python3.6/dist-packages (from feature_engine) (0.22.2.post1)\n",
            "Requirement already satisfied: numpy>=1.18.2 in /usr/local/lib/python3.6/dist-packages (from feature_engine) (1.19.4)\n",
            "Requirement already satisfied: statsmodels>=0.11.1 in /usr/local/lib/python3.6/dist-packages (from feature_engine) (0.12.1)\n",
            "Requirement already satisfied: pandas>=1.0.3 in /usr/local/lib/python3.6/dist-packages (from feature_engine) (1.1.5)\n",
            "Requirement already satisfied: joblib>=0.11 in /usr/local/lib/python3.6/dist-packages (from scikit-learn>=0.22.2->feature_engine) (1.0.0)\n",
            "Requirement already satisfied: patsy>=0.5 in /usr/local/lib/python3.6/dist-packages (from statsmodels>=0.11.1->feature_engine) (0.5.1)\n",
            "Requirement already satisfied: python-dateutil>=2.7.3 in /usr/local/lib/python3.6/dist-packages (from pandas>=1.0.3->feature_engine) (2.8.1)\n",
            "Requirement already satisfied: pytz>=2017.2 in /usr/local/lib/python3.6/dist-packages (from pandas>=1.0.3->feature_engine) (2018.9)\n",
            "Requirement already satisfied: six in /usr/local/lib/python3.6/dist-packages (from patsy>=0.5->statsmodels>=0.11.1->feature_engine) (1.15.0)\n"
          ],
          "name": "stdout"
        }
      ]
    },
    {
      "cell_type": "code",
      "metadata": {
        "colab": {
          "base_uri": "https://localhost:8080/",
          "height": 295
        },
        "id": "42a7eS2oQaC2",
        "outputId": "f4a875de-7eee-4a65-e861-663ac48e4f1c"
      },
      "source": [
        "from feature_engine import missing_data_imputers"
      ],
      "execution_count": 24,
      "outputs": [
        {
          "output_type": "error",
          "ename": "ImportError",
          "evalue": "ignored",
          "traceback": [
            "\u001b[0;31m---------------------------------------------------------------------------\u001b[0m",
            "\u001b[0;31mImportError\u001b[0m                               Traceback (most recent call last)",
            "\u001b[0;32m<ipython-input-24-3fd47d594369>\u001b[0m in \u001b[0;36m<module>\u001b[0;34m()\u001b[0m\n\u001b[0;32m----> 1\u001b[0;31m \u001b[0;32mfrom\u001b[0m \u001b[0mfeature_engine\u001b[0m \u001b[0;32mimport\u001b[0m \u001b[0mmissing_data_imputers\u001b[0m\u001b[0;34m\u001b[0m\u001b[0;34m\u001b[0m\u001b[0m\n\u001b[0m",
            "\u001b[0;31mImportError\u001b[0m: cannot import name 'missing_data_imputers'",
            "",
            "\u001b[0;31m---------------------------------------------------------------------------\u001b[0;32m\nNOTE: If your import is failing due to a missing package, you can\nmanually install dependencies using either !pip or !apt.\n\nTo view examples of installing some common dependencies, click the\n\"Open Examples\" button below.\n\u001b[0;31m---------------------------------------------------------------------------\u001b[0m\n"
          ]
        }
      ]
    },
    {
      "cell_type": "code",
      "metadata": {
        "id": "--Ncezqu0AEY"
      },
      "source": [
        "from sklearn.pipeline import Pipeline\n",
        "from sklearn.preprocessing import StandardScaler\n",
        "from feature_engine.imputation import (\n",
        "    AddMissingIndicator,\n",
        "    MeanMedianImputer,\n",
        "    CategoricalImputer,\n",
        "    ) \n",
        "#from feature_engine import missing_data_imputers as mdi\n",
        "#from feature_engine import categorical_encoders as ce\n",
        "from feature_engine.encoding import RareLabelEncoder, MeanEncoder\n",
        "\n",
        "#from feature_engine.variable_transformers import YeoJohnsonTransformer\n",
        "from sklearn.preprocessing import StandardScaler\n",
        "#from feature_engine.discretisers import DecisionTreeDiscretiser\n",
        "from math import sqrt\n",
        "from sklearn.metrics import mean_squared_error"
      ],
      "execution_count": 31,
      "outputs": []
    },
    {
      "cell_type": "code",
      "metadata": {
        "id": "o9kS6AfjB1Gj"
      },
      "source": [
        "wine_quality_preprocess = Pipeline([\n",
        "    \n",
        "    # missing data imputation \n",
        "    ('imputer_numerical', MeanMedianImputer(imputation_method='median',\n",
        "                                          variables=numerical)),\n",
        "    ('imputer_categorical', CategoricalImputer(variables=categorical)),\n",
        "\n",
        "    # categorical encoding \n",
        "     ('rare_label_enc', RareLabelEncoder(\n",
        "         tol=0.01,n_categories=6, variables=categorical)),\n",
        "    ('categorical_enc', MeanEncoder(variables = categorical)),\n",
        "     \n",
        "    # feature Scaling\n",
        "    ('scaler', StandardScaler()),\n",
        "])"
      ],
      "execution_count": 32,
      "outputs": []
    },
    {
      "cell_type": "code",
      "metadata": {
        "id": "nL_dCFq5B4hy",
        "colab": {
          "base_uri": "https://localhost:8080/"
        },
        "outputId": "b8457004-ca69-4b5d-86f9-b8dcf682a3ae"
      },
      "source": [
        "wine_quality_preprocess.fit(X_train,y_train)"
      ],
      "execution_count": 33,
      "outputs": [
        {
          "output_type": "execute_result",
          "data": {
            "text/plain": [
              "Pipeline(memory=None,\n",
              "         steps=[('imputer_numerical',\n",
              "                 MeanMedianImputer(imputation_method='median',\n",
              "                                   variables=['price'])),\n",
              "                ('imputer_categorical',\n",
              "                 CategoricalImputer(fill_value='Missing',\n",
              "                                    imputation_method='missing',\n",
              "                                    return_object=False,\n",
              "                                    variables=['country', 'designation',\n",
              "                                               'province', 'region_1',\n",
              "                                               'variety', 'winery'])),\n",
              "                ('rare_label_enc',\n",
              "                 RareLabelEncoder(max_n_categories=None, n_categories=6,\n",
              "                                  replace_with='Rare', tol=0.01,\n",
              "                                  variables=['country', 'designation',\n",
              "                                             'province', 'region_1', 'variety',\n",
              "                                             'winery'])),\n",
              "                ('categorical_enc',\n",
              "                 MeanEncoder(variables=['country', 'designation', 'province',\n",
              "                                        'region_1', 'variety', 'winery'])),\n",
              "                ('scaler',\n",
              "                 StandardScaler(copy=True, with_mean=True, with_std=True))],\n",
              "         verbose=False)"
            ]
          },
          "metadata": {
            "tags": []
          },
          "execution_count": 33
        }
      ]
    },
    {
      "cell_type": "code",
      "metadata": {
        "id": "1Zwbso5RB6zf"
      },
      "source": [
        "X_train=wine_quality_preprocess.transform(X_train)\n",
        "X_val=wine_quality_preprocess.transform(X_val)"
      ],
      "execution_count": 34,
      "outputs": []
    },
    {
      "cell_type": "code",
      "metadata": {
        "id": "se54MgnlCKLB",
        "colab": {
          "base_uri": "https://localhost:8080/"
        },
        "outputId": "3f946fab-b98d-4f3c-96b4-6de0bd814517"
      },
      "source": [
        "from sklearn.model_selection import GridSearchCV\n",
        "from sklearn.linear_model import Ridge\n",
        "ridge = Ridge()\n",
        "\n",
        "#define a list of parameters\n",
        "param_ridge = {'alpha':[1000,2000,3000,4000,5000] }\n",
        "\n",
        "grid_ridge = GridSearchCV(ridge, param_ridge, cv=5, return_train_score = True)\n",
        "grid_ridge.fit(X_train, y_train)\n",
        "\n",
        "# Mean Cross Validation Score\n",
        "print(\"Best Cross-validation score: {}\".format(grid_ridge.best_score_))\n",
        "\n",
        "print()\n",
        "\n",
        "#print best parameters\n",
        "print('Ridge best parameters: ', grid_ridge.best_params_)\n",
        "\n",
        "\n",
        "# Check test data set performance\n",
        "print(\"L2 regularized linear regression Train Score:\",grid_ridge.score(X_train,y_train))\n",
        "print(\"L2 regularized linear regression Test Performance: \", grid_ridge.score(X_val,y_val))\n"
      ],
      "execution_count": 35,
      "outputs": [
        {
          "output_type": "stream",
          "text": [
            "Best Cross-validation score: 0.2312751646805617\n",
            "\n",
            "Ridge best parameters:  {'alpha': 2000}\n",
            "L2 regularized linear regression Train Score: 0.2346161338560666\n",
            "L2 regularized linear regression Test Performance:  0.2484183958030447\n"
          ],
          "name": "stdout"
        }
      ]
    },
    {
      "cell_type": "code",
      "metadata": {
        "id": "loumuXMrCNRv"
      },
      "source": [
        "X_train_preds = grid_ridge.predict(X_train)\n",
        "X_val_preds = grid_ridge.predict(X_val)"
      ],
      "execution_count": 37,
      "outputs": []
    },
    {
      "cell_type": "code",
      "metadata": {
        "id": "GK2xb9ZR5wZL",
        "colab": {
          "base_uri": "https://localhost:8080/"
        },
        "outputId": "5f1b6763-bdd2-41b5-91b3-df2df1be4992"
      },
      "source": [
        "print('train rmse: {}'.format(sqrt(mean_squared_error(y_train, X_train_preds))))\n",
        "print('Val rmse: {}'.format(sqrt(mean_squared_error(y_val, X_val_preds))))"
      ],
      "execution_count": 38,
      "outputs": [
        {
          "output_type": "stream",
          "text": [
            "train rmse: 2.700356970932612\n",
            "Val rmse: 2.6676716473085778\n"
          ],
          "name": "stdout"
        }
      ]
    },
    {
      "cell_type": "code",
      "metadata": {
        "id": "phPttgUz5y31"
      },
      "source": [
        "import pickle"
      ],
      "execution_count": null,
      "outputs": []
    },
    {
      "cell_type": "code",
      "metadata": {
        "id": "9-tE36X25zrx"
      },
      "source": [
        "filename = 'wine_quality_non_reviews.sav'\n",
        "pickle.dump(grid_ridge, open(filename, 'wb'))"
      ],
      "execution_count": null,
      "outputs": []
    },
    {
      "cell_type": "markdown",
      "metadata": {
        "id": "rnHD72TK52IN"
      },
      "source": [
        "## 2.\tCreate a simple text-based model using a bag-of-words approach and a linear model.We will use review column this time."
      ]
    },
    {
      "cell_type": "code",
      "metadata": {
        "id": "YzNgdxza55uU"
      },
      "source": [
        "public_text = pd.read_csv(folder/\"public.csv\")\n",
        "private_text = pd.read_csv(folder/\"private.csv\")\n",
        "train_text = pd.read_csv(folder/\"train.csv\")"
      ],
      "execution_count": 39,
      "outputs": []
    },
    {
      "cell_type": "code",
      "metadata": {
        "id": "pd1SMt9b58il"
      },
      "source": [
        "train_text=train_text.drop_duplicates(['description','title'])\n",
        "train_text=train_text.reset_index(drop=True)"
      ],
      "execution_count": 40,
      "outputs": []
    },
    {
      "cell_type": "code",
      "metadata": {
        "id": "ShTJGa0t5--6"
      },
      "source": [
        "train_text = train_text[[\"description\",\"points\"]]"
      ],
      "execution_count": 41,
      "outputs": []
    },
    {
      "cell_type": "code",
      "metadata": {
        "id": "KIGnov1_6Avr"
      },
      "source": [
        "\n",
        "from nltk.corpus import stopwords\n",
        "from nltk.stem.porter import PorterStemmer\n",
        "from sklearn.feature_extraction.text import CountVectorizer\n",
        "import nltk\n",
        "import string\n",
        "from wordcloud import WordCloud, STOPWORDS\n",
        "import re\n",
        "from nltk.corpus import stopwords\n",
        "\n",
        "from nltk.tokenize import RegexpTokenizer\n",
        "from nltk.tokenize import WordPunctTokenizer"
      ],
      "execution_count": 42,
      "outputs": []
    },
    {
      "cell_type": "code",
      "metadata": {
        "id": "ew68aeOZ6Cpa",
        "colab": {
          "base_uri": "https://localhost:8080/"
        },
        "outputId": "5d794a3f-50ba-45e6-8bc8-6340bc7f4ab0"
      },
      "source": [
        "\n",
        "train_text['description']= train_text['description'].str.lower()\n",
        "train_text['description']= train_text['description'].apply(lambda i: re.sub('[^a-zA-Z]',' ', i))  \n",
        "train_text['description']"
      ],
      "execution_count": 43,
      "outputs": [
        {
          "output_type": "execute_result",
          "data": {
            "text/plain": [
              "0        a buoyant wine  this has delicious acidity and...\n",
              "1        despite weighing in at     alcohol  this seems...\n",
              "2        sweet  simple and fruity  this light bodied wi...\n",
              "3        tastes like a sweet and sour sauce mixed into ...\n",
              "4        as a one liter package you get one third more ...\n",
              "                               ...                        \n",
              "85169    plump red and black fruit is immediately evide...\n",
              "85170    green and vegetal in aromas and flavors  the n...\n",
              "85171    named after the pombal  or dovecote at ves vio...\n",
              "85172    produced from vines with an average age of    ...\n",
              "85173    plump red cherry notes meet clove  allspice an...\n",
              "Name: description, Length: 85174, dtype: object"
            ]
          },
          "metadata": {
            "tags": []
          },
          "execution_count": 43
        }
      ]
    },
    {
      "cell_type": "code",
      "metadata": {
        "id": "x2bRTA046FeB",
        "colab": {
          "base_uri": "https://localhost:8080/"
        },
        "outputId": "5af5ddf8-539d-46da-986c-e16f0b6170f3"
      },
      "source": [
        "tokenizer = WordPunctTokenizer()\n",
        "words_descriptions = train_text['description'].apply(tokenizer.tokenize)\n",
        "words_descriptions.head()"
      ],
      "execution_count": 44,
      "outputs": [
        {
          "output_type": "execute_result",
          "data": {
            "text/plain": [
              "0    [a, buoyant, wine, this, has, delicious, acidi...\n",
              "1    [despite, weighing, in, at, alcohol, this, see...\n",
              "2    [sweet, simple, and, fruity, this, light, bodi...\n",
              "3    [tastes, like, a, sweet, and, sour, sauce, mix...\n",
              "4    [as, a, one, liter, package, you, get, one, th...\n",
              "Name: description, dtype: object"
            ]
          },
          "metadata": {
            "tags": []
          },
          "execution_count": 44
        }
      ]
    },
    {
      "cell_type": "code",
      "metadata": {
        "id": "PhBWxbWo6Gp7",
        "colab": {
          "base_uri": "https://localhost:8080/"
        },
        "outputId": "fd837133-e35b-430f-8774-4bf897897d68"
      },
      "source": [
        "nltk.download('stopwords')"
      ],
      "execution_count": 45,
      "outputs": [
        {
          "output_type": "stream",
          "text": [
            "[nltk_data] Downloading package stopwords to /root/nltk_data...\n",
            "[nltk_data]   Unzipping corpora/stopwords.zip.\n"
          ],
          "name": "stdout"
        },
        {
          "output_type": "execute_result",
          "data": {
            "text/plain": [
              "True"
            ]
          },
          "metadata": {
            "tags": []
          },
          "execution_count": 45
        }
      ]
    },
    {
      "cell_type": "code",
      "metadata": {
        "id": "eefykjlj6IO9"
      },
      "source": [
        "stop_words = stopwords.words('english')\n",
        "Port_Stem = PorterStemmer()\n",
        "words_descriptions = words_descriptions.apply(lambda x: [word for word in x if not word in stop_words])\n",
        "words_descriptions = words_descriptions.apply(lambda x: [Port_Stem.stem(word) for word in x])\n",
        "train_text['processed_data'] = words_descriptions.apply(lambda x: ' '.join(x))"
      ],
      "execution_count": 46,
      "outputs": []
    },
    {
      "cell_type": "code",
      "metadata": {
        "id": "fECPLhRd6KV9",
        "colab": {
          "base_uri": "https://localhost:8080/",
          "height": 404
        },
        "outputId": "66a9c93b-181a-4142-d9f5-b8f844cc656d"
      },
      "source": [
        "train_text"
      ],
      "execution_count": 47,
      "outputs": [
        {
          "output_type": "execute_result",
          "data": {
            "text/html": [
              "<div>\n",
              "<style scoped>\n",
              "    .dataframe tbody tr th:only-of-type {\n",
              "        vertical-align: middle;\n",
              "    }\n",
              "\n",
              "    .dataframe tbody tr th {\n",
              "        vertical-align: top;\n",
              "    }\n",
              "\n",
              "    .dataframe thead th {\n",
              "        text-align: right;\n",
              "    }\n",
              "</style>\n",
              "<table border=\"1\" class=\"dataframe\">\n",
              "  <thead>\n",
              "    <tr style=\"text-align: right;\">\n",
              "      <th></th>\n",
              "      <th>description</th>\n",
              "      <th>points</th>\n",
              "      <th>processed_data</th>\n",
              "    </tr>\n",
              "  </thead>\n",
              "  <tbody>\n",
              "    <tr>\n",
              "      <th>0</th>\n",
              "      <td>a buoyant wine  this has delicious acidity and...</td>\n",
              "      <td>89</td>\n",
              "      <td>buoyant wine delici acid soft immedi access te...</td>\n",
              "    </tr>\n",
              "    <tr>\n",
              "      <th>1</th>\n",
              "      <td>despite weighing in at     alcohol  this seems...</td>\n",
              "      <td>86</td>\n",
              "      <td>despit weigh alcohol seem light bodi sweet sty...</td>\n",
              "    </tr>\n",
              "    <tr>\n",
              "      <th>2</th>\n",
              "      <td>sweet  simple and fruity  this light bodied wi...</td>\n",
              "      <td>84</td>\n",
              "      <td>sweet simpl fruiti light bodi wine smell flora...</td>\n",
              "    </tr>\n",
              "    <tr>\n",
              "      <th>3</th>\n",
              "      <td>tastes like a sweet and sour sauce mixed into ...</td>\n",
              "      <td>84</td>\n",
              "      <td>tast like sweet sour sauc mix white wine pinea...</td>\n",
              "    </tr>\n",
              "    <tr>\n",
              "      <th>4</th>\n",
              "      <td>as a one liter package you get one third more ...</td>\n",
              "      <td>86</td>\n",
              "      <td>one liter packag get one third wine money ceme...</td>\n",
              "    </tr>\n",
              "    <tr>\n",
              "      <th>...</th>\n",
              "      <td>...</td>\n",
              "      <td>...</td>\n",
              "      <td>...</td>\n",
              "    </tr>\n",
              "    <tr>\n",
              "      <th>85169</th>\n",
              "      <td>plump red and black fruit is immediately evide...</td>\n",
              "      <td>90</td>\n",
              "      <td>plump red black fruit immedi evid wine plum bl...</td>\n",
              "    </tr>\n",
              "    <tr>\n",
              "      <th>85170</th>\n",
              "      <td>green and vegetal in aromas and flavors  the n...</td>\n",
              "      <td>84</td>\n",
              "      <td>green veget aroma flavor nose deal pea green b...</td>\n",
              "    </tr>\n",
              "    <tr>\n",
              "      <th>85171</th>\n",
              "      <td>named after the pombal  or dovecote at ves vio...</td>\n",
              "      <td>89</td>\n",
              "      <td>name pombal dovecot ve vio soft readi drink wi...</td>\n",
              "    </tr>\n",
              "    <tr>\n",
              "      <th>85172</th>\n",
              "      <td>produced from vines with an average age of    ...</td>\n",
              "      <td>88</td>\n",
              "      <td>produc vine averag age year wine age lee bottl...</td>\n",
              "    </tr>\n",
              "    <tr>\n",
              "      <th>85173</th>\n",
              "      <td>plump red cherry notes meet clove  allspice an...</td>\n",
              "      <td>86</td>\n",
              "      <td>plump red cherri note meet clove allspic dri g...</td>\n",
              "    </tr>\n",
              "  </tbody>\n",
              "</table>\n",
              "<p>85174 rows × 3 columns</p>\n",
              "</div>"
            ],
            "text/plain": [
              "                                             description  ...                                     processed_data\n",
              "0      a buoyant wine  this has delicious acidity and...  ...  buoyant wine delici acid soft immedi access te...\n",
              "1      despite weighing in at     alcohol  this seems...  ...  despit weigh alcohol seem light bodi sweet sty...\n",
              "2      sweet  simple and fruity  this light bodied wi...  ...  sweet simpl fruiti light bodi wine smell flora...\n",
              "3      tastes like a sweet and sour sauce mixed into ...  ...  tast like sweet sour sauc mix white wine pinea...\n",
              "4      as a one liter package you get one third more ...  ...  one liter packag get one third wine money ceme...\n",
              "...                                                  ...  ...                                                ...\n",
              "85169  plump red and black fruit is immediately evide...  ...  plump red black fruit immedi evid wine plum bl...\n",
              "85170  green and vegetal in aromas and flavors  the n...  ...  green veget aroma flavor nose deal pea green b...\n",
              "85171  named after the pombal  or dovecote at ves vio...  ...  name pombal dovecot ve vio soft readi drink wi...\n",
              "85172  produced from vines with an average age of    ...  ...  produc vine averag age year wine age lee bottl...\n",
              "85173  plump red cherry notes meet clove  allspice an...  ...  plump red cherri note meet clove allspic dri g...\n",
              "\n",
              "[85174 rows x 3 columns]"
            ]
          },
          "metadata": {
            "tags": []
          },
          "execution_count": 47
        }
      ]
    },
    {
      "cell_type": "code",
      "metadata": {
        "id": "-RzpIukx6Wb6",
        "colab": {
          "base_uri": "https://localhost:8080/"
        },
        "outputId": "95267cba-9f2a-4734-f40c-6a9ccdcd89c2"
      },
      "source": [
        "from sklearn.model_selection import train_test_split\n",
        "X_train_text, X_val_text, y_train_text, y_val_text = train_test_split(train_text.drop(['description','points'], axis=1),\n",
        "                                                    train_text['points'],\n",
        "                                                    test_size=0.2,\n",
        "                                                    random_state=0)\n",
        "X_train_text.shape,X_val_text.shape"
      ],
      "execution_count": 48,
      "outputs": [
        {
          "output_type": "execute_result",
          "data": {
            "text/plain": [
              "((68139, 1), (17035, 1))"
            ]
          },
          "metadata": {
            "tags": []
          },
          "execution_count": 48
        }
      ]
    },
    {
      "cell_type": "markdown",
      "metadata": {
        "id": "6r9zBUdZ6bvI"
      },
      "source": [
        "### Using Bag of Words Approach"
      ]
    },
    {
      "cell_type": "code",
      "metadata": {
        "id": "8nlpruwt6Ywd"
      },
      "source": [
        "from sklearn.feature_extraction.text import CountVectorizer\n",
        "vect = CountVectorizer(max_features=1500).fit(X_train_text['processed_data'])\n",
        "X_train_text_new = vect.transform(X_train_text['processed_data'])"
      ],
      "execution_count": null,
      "outputs": []
    },
    {
      "cell_type": "code",
      "metadata": {
        "id": "OX17i6g_6eTK"
      },
      "source": [
        "X_val_text_new = vect.transform(X_val_text['processed_data'])"
      ],
      "execution_count": null,
      "outputs": []
    },
    {
      "cell_type": "code",
      "metadata": {
        "id": "IGRkOL6_6f5X",
        "colab": {
          "base_uri": "https://localhost:8080/",
          "height": 101
        },
        "outputId": "d80b32c6-cf3e-4fe4-878a-5f895a3eeecc"
      },
      "source": [
        "ridge = Ridge()\n",
        "\n",
        "#define a list of parameters\n",
        "param_ridge = {'alpha':[0.1,1,5,10,20,50] }\n",
        "\n",
        "grid_ridge_bow = GridSearchCV(ridge, param_ridge, cv=5, return_train_score = True)\n",
        "grid_ridge_bow.fit(X_train_text_new, y_train_text)\n",
        "\n",
        "# Mean Cross Validation Score\n",
        "print(\"Best Mean Cross-validation score: {}\".format(grid_ridge_bow.best_score_))\n",
        "\n",
        "print()\n",
        "\n",
        "#find best parameters\n",
        "print('Ridge best parameters: ', grid_ridge_bow.best_params_)\n",
        "\n",
        "# print co-eff\n",
        "\n",
        "#print(\"Ridge.coef_:\", grid_ridge.best_estimator_.coef_)\n",
        "#print(\"Ridge.intercept_:\", grid_ridge.best_estimator_.intercept_)\n",
        "\n",
        "# Check test data set performance\n",
        "print(\"Ridge Train Score:\",grid_ridge_bow.score(X_train_text_new,y_train_text))\n",
        "print(\"Ridge Test Score:\",grid_ridge_bow.score(X_val_text_new,y_val_text))"
      ],
      "execution_count": null,
      "outputs": [
        {
          "output_type": "stream",
          "text": [
            "Best Mean Cross-validation score: 0.6483840707622692\n",
            "\n",
            "Ridge best parameters:  {'alpha': 20}\n",
            "Ridge Train Score: 0.6646146495421072\n",
            "Ridge Test Score: 0.6541042559915845\n"
          ],
          "name": "stdout"
        }
      ]
    },
    {
      "cell_type": "code",
      "metadata": {
        "id": "lv4d6TNV6ilm"
      },
      "source": [
        "X_train_text_preds = grid_ridge_bow.predict(X_train_text_new)\n",
        "X_val_text_preds = grid_ridge_bow.predict(X_val_text_new)"
      ],
      "execution_count": null,
      "outputs": []
    },
    {
      "cell_type": "code",
      "metadata": {
        "id": "9IzNqWR66ktT",
        "colab": {
          "base_uri": "https://localhost:8080/",
          "height": 50
        },
        "outputId": "0ee4aac7-7446-484b-d4a9-8dfca455cd6d"
      },
      "source": [
        "print('training data rmse: {}'.format(sqrt(mean_squared_error(y_train_text, X_train_text_preds))))\n",
        "print('Validation data rmse: {}'.format(sqrt(mean_squared_error(y_val_text, X_val_text_preds))))"
      ],
      "execution_count": null,
      "outputs": [
        {
          "output_type": "stream",
          "text": [
            "training data rmse: 1.7875309571864015\n",
            "Validation data rmse: 1.8097430244857304\n"
          ],
          "name": "stdout"
        }
      ]
    },
    {
      "cell_type": "code",
      "metadata": {
        "id": "uqcDuS116mLG"
      },
      "source": [
        "filename = 'wine_quality_bow.sav'\n",
        "pickle.dump(grid_ridge_bow, open(filename, 'wb'))"
      ],
      "execution_count": null,
      "outputs": []
    },
    {
      "cell_type": "markdown",
      "metadata": {
        "id": "ceVRCPQs6oj1"
      },
      "source": [
        "## 3.\tTry using n-grams, characters, tf-idf rescaling and possibly other ways to tune the BoW model."
      ]
    },
    {
      "cell_type": "markdown",
      "metadata": {
        "id": "3iy2clyl6uUU"
      },
      "source": [
        "### Using TF-IDF approach"
      ]
    },
    {
      "cell_type": "code",
      "metadata": {
        "id": "pah32KqH6nyl"
      },
      "source": [
        "from sklearn.feature_extraction.text import TfidfVectorizer"
      ],
      "execution_count": null,
      "outputs": []
    },
    {
      "cell_type": "code",
      "metadata": {
        "id": "xRfy65yv6xsC"
      },
      "source": [
        "vect_id = TfidfVectorizer().fit(X_train_text['processed_data'])\n",
        "X_train_tidf = vect_id.transform(X_train_text['processed_data'])"
      ],
      "execution_count": null,
      "outputs": []
    },
    {
      "cell_type": "code",
      "metadata": {
        "id": "DRwo60Y76yja"
      },
      "source": [
        "X_val_tidf = vect_id.transform(X_val_text['processed_data'])"
      ],
      "execution_count": null,
      "outputs": []
    },
    {
      "cell_type": "code",
      "metadata": {
        "id": "VgS-TtOB60au",
        "colab": {
          "base_uri": "https://localhost:8080/",
          "height": 101
        },
        "outputId": "82fd1d9e-9d46-489e-8b68-48a768e1aa71"
      },
      "source": [
        "ridge = Ridge()\n",
        "\n",
        "#define a list of parameters\n",
        "param_ridge = {'alpha':[0.1,1,5,10,20] }\n",
        "\n",
        "grid_ridge_tidf = GridSearchCV(ridge, param_ridge, cv=5, return_train_score = True)\n",
        "grid_ridge_tidf.fit(X_train_tidf, y_train_text)\n",
        "\n",
        "# Mean Cross Validation Score\n",
        "print(\"Best Cross-validation score: {}\".format(grid_ridge_tidf.best_score_))\n",
        "\n",
        "print()\n",
        "\n",
        "#find best parameters\n",
        "print('L2 Regularized ridge best parameters: ', grid_ridge_tidf.best_params_)\n",
        "\n",
        "\n",
        "# Check test data set performance\n",
        "print(\"L2 Regularized ridge training Score:\",grid_ridge_tidf.score(X_train_tidf,y_train_text))\n",
        "print(\"L2 Regularized ridge Test Score:\",grid_ridge_tidf.score(X_val_tidf,y_val_text))"
      ],
      "execution_count": null,
      "outputs": [
        {
          "output_type": "stream",
          "text": [
            "Best Cross-validation score: 0.6652576158578858\n",
            "\n",
            "L2 Regularized ridge best parameters:  {'alpha': 1}\n",
            "L2 Regularized ridge training Score: 0.7318439793909531\n",
            "L2 Regularized ridge Test Score: 0.6767052556405346\n"
          ],
          "name": "stdout"
        }
      ]
    },
    {
      "cell_type": "code",
      "metadata": {
        "id": "vhDKbuel62KV"
      },
      "source": [
        "X_train_preds_tidf = grid_ridge_tidf.predict(X_train_tidf)\n",
        "X_val_preds_tidf = grid_ridge_tidf.predict(X_val_tidf)"
      ],
      "execution_count": null,
      "outputs": []
    },
    {
      "cell_type": "code",
      "metadata": {
        "id": "7JA0uHjn64Ue",
        "colab": {
          "base_uri": "https://localhost:8080/",
          "height": 50
        },
        "outputId": "469ed6cc-fac5-4b6d-b3fb-4bc246d9a235"
      },
      "source": [
        "print('training rmse: {}'.format(sqrt(mean_squared_error(y_train_text, X_train_preds_tidf))))\n",
        "print('Validation rmse: {}'.format(sqrt(mean_squared_error(y_val_text, X_val_preds_tidf))))"
      ],
      "execution_count": null,
      "outputs": [
        {
          "output_type": "stream",
          "text": [
            "training rmse: 1.5983625798298204\n",
            "Validation rmse: 1.7496195566119823\n"
          ],
          "name": "stdout"
        }
      ]
    },
    {
      "cell_type": "code",
      "metadata": {
        "id": "LblkVNPJ656y"
      },
      "source": [
        "filename = 'wine_quality_tidf.sav'\n",
        "pickle.dump(grid_ridge_tidf, open(filename, 'wb'))"
      ],
      "execution_count": null,
      "outputs": []
    },
    {
      "cell_type": "markdown",
      "metadata": {
        "id": "Ps9oVZo268fW"
      },
      "source": [
        "### Implementing n-grams approach "
      ]
    },
    {
      "cell_type": "code",
      "metadata": {
        "id": "UJUZL83A67z5"
      },
      "source": [
        "vect_gram = CountVectorizer(ngram_range=(2,2)).fit(X_train_text['processed_data'])\n",
        "X_train_gram = vect_gram.transform(X_train_text['processed_data'])"
      ],
      "execution_count": null,
      "outputs": []
    },
    {
      "cell_type": "code",
      "metadata": {
        "id": "P14qki5H7CrH"
      },
      "source": [
        "X_val_gram = vect_gram.transform(X_val_text['processed_data'])"
      ],
      "execution_count": null,
      "outputs": []
    },
    {
      "cell_type": "code",
      "metadata": {
        "id": "MUiNtAj07EdW",
        "colab": {
          "base_uri": "https://localhost:8080/",
          "height": 101
        },
        "outputId": "51ab3007-3ddf-4ad0-d804-4269aeca521e"
      },
      "source": [
        "ridge = Ridge()\n",
        "\n",
        "#define a list of parameters\n",
        "param_ridge = {'alpha':[20,40,50,60] }\n",
        "\n",
        "grid_gram = GridSearchCV(ridge, param_ridge, cv=5, return_train_score = True)\n",
        "grid_gram.fit(X_train_gram, y_train_text)\n",
        "\n",
        "# Mean Cross Validation Score\n",
        "print(\"Best  Cross-validation score: {}\".format(grid_gram.best_score_))\n",
        "\n",
        "print()\n",
        "\n",
        "#find best parameters\n",
        "print('L2 regularized linear regression best parameters: ', grid_gram.best_params_)\n",
        "\n",
        "# print co-eff\n",
        "\n",
        "#print(\"Ridge.coef_:\", grid_ridge.best_estimator_.coef_)\n",
        "#print(\"Ridge.intercept_:\", grid_ridge.best_estimator_.intercept_)\n",
        "\n",
        "# Check test data set performance\n",
        "print(\"L2 regularized linear regression Train Score:\",grid_gram.score(X_train_gram,y_train_text))\n",
        "print(\"L2 regularized linear regression Test Score:\",grid_gram.score(X_val_gram,y_val_text))"
      ],
      "execution_count": null,
      "outputs": [
        {
          "output_type": "stream",
          "text": [
            "Best  Cross-validation score: 0.5362135185136666\n",
            "\n",
            "L2 regularized linear regression best parameters:  {'alpha': 20}\n",
            "L2 regularized linear regression Train Score: 0.8479553563390098\n",
            "L2 regularized linear regression Test Score: 0.56020510834505\n"
          ],
          "name": "stdout"
        }
      ]
    },
    {
      "cell_type": "code",
      "metadata": {
        "id": "jwkaEDRF7GFU"
      },
      "source": [
        "X_train_gram_preds = grid_gram.predict(X_train_gram)\n",
        "X_val_gram_preds = grid_gram.predict(X_val_gram)"
      ],
      "execution_count": null,
      "outputs": []
    },
    {
      "cell_type": "code",
      "metadata": {
        "id": "b-jkw7lk7Tqs",
        "colab": {
          "base_uri": "https://localhost:8080/",
          "height": 50
        },
        "outputId": "ebda038d-8bde-47b8-9cfc-fe39bae4c7e5"
      },
      "source": [
        "print('training data rmse: {}'.format(sqrt(mean_squared_error(y_train_text, X_train_gram_preds))))\n",
        "print('Validation data rmse: {}'.format(sqrt(mean_squared_error(y_val_text, X_val_gram_preds))))"
      ],
      "execution_count": null,
      "outputs": [
        {
          "output_type": "stream",
          "text": [
            "training data rmse: 1.2035581829341093\n",
            "Validation data rmse: 2.0406540829167965\n"
          ],
          "name": "stdout"
        }
      ]
    },
    {
      "cell_type": "code",
      "metadata": {
        "id": "kou3PWZk7Ure"
      },
      "source": [
        "filename = 'wine_quality_ngram.sav'\n",
        "pickle.dump(grid_gram, open(filename, 'wb'))"
      ],
      "execution_count": null,
      "outputs": []
    },
    {
      "cell_type": "markdown",
      "metadata": {
        "id": "ibvZzm9p7W99"
      },
      "source": [
        "## 4.\tCombine review based and non-review based features now"
      ]
    },
    {
      "cell_type": "code",
      "metadata": {
        "id": "kdP7DeOh7ae4",
        "colab": {
          "base_uri": "https://localhost:8080/",
          "height": 50
        },
        "outputId": "a42a50af-0dd2-437d-de33-dce669ec43c7"
      },
      "source": [
        "X_train_text_new,X_train.shape"
      ],
      "execution_count": null,
      "outputs": [
        {
          "output_type": "execute_result",
          "data": {
            "text/plain": [
              "(<68139x1500 sparse matrix of type '<class 'numpy.int64'>'\n",
              " \twith 1506357 stored elements in Compressed Sparse Row format>, (68139, 7))"
            ]
          },
          "metadata": {
            "tags": []
          },
          "execution_count": 143
        }
      ]
    },
    {
      "cell_type": "code",
      "metadata": {
        "id": "LPuCzus67cNO"
      },
      "source": [
        "X_train_combi = X_train_text_new.todense()"
      ],
      "execution_count": null,
      "outputs": []
    },
    {
      "cell_type": "code",
      "metadata": {
        "id": "BwX12IZa7eAz"
      },
      "source": [
        "X_train_combi = np.concatenate((X_train_combi,X_train),axis=1)"
      ],
      "execution_count": null,
      "outputs": []
    },
    {
      "cell_type": "code",
      "metadata": {
        "id": "ncLZa1PL7fzB"
      },
      "source": [
        "X_val_combi = X_val_text_new.todense()"
      ],
      "execution_count": null,
      "outputs": []
    },
    {
      "cell_type": "code",
      "metadata": {
        "id": "veyT9Z137ipl"
      },
      "source": [
        "X_val_combi = np.concatenate((X_val_combi,X_val),axis=1)"
      ],
      "execution_count": null,
      "outputs": []
    },
    {
      "cell_type": "code",
      "metadata": {
        "id": "cSYVmGKD7jgx",
        "colab": {
          "base_uri": "https://localhost:8080/",
          "height": 101
        },
        "outputId": "2d2651c1-35b0-487c-d6cb-4a3037d12805"
      },
      "source": [
        "ridge = Ridge()\n",
        "\n",
        "#define a list of parameters\n",
        "param_ridge = {'alpha':[20,40,50,60] }\n",
        "\n",
        "grid_combi = GridSearchCV(ridge, param_ridge, cv=5, return_train_score = True)\n",
        "grid_combi.fit(X_train_combi, y_train_text)\n",
        "\n",
        "# Mean Cross Validation Score\n",
        "print(\"Best  Cross-validation score: {}\".format(grid_combi.best_score_))\n",
        "\n",
        "print()\n",
        "\n",
        "#find best parameters\n",
        "print('L2 regularized linear regression best parameters: ', grid_combi.best_params_)\n",
        "\n",
        "# print co-eff\n",
        "\n",
        "#print(\"Ridge.coef_:\", grid_ridge.best_estimator_.coef_)\n",
        "#print(\"Ridge.intercept_:\", grid_ridge.best_estimator_.intercept_)\n",
        "\n",
        "# Check test data set performance\n",
        "print(\"L2 regularized linear regression Train Score:\",grid_combi.score(X_train_combi,y_train_text))\n",
        "print(\"L2 regularized linear regression Test Score:\",grid_combi.score(X_val_combi,y_val_text))"
      ],
      "execution_count": null,
      "outputs": [
        {
          "output_type": "stream",
          "text": [
            "Best  Cross-validation score: 0.6813631672333968\n",
            "\n",
            "L2 regularized linear regression best parameters:  {'alpha': 20}\n",
            "L2 regularized linear regression Train Score: 0.6968814605529466\n",
            "L2 regularized linear regression Test Score: 0.6891424393356156\n"
          ],
          "name": "stdout"
        }
      ]
    },
    {
      "cell_type": "code",
      "metadata": {
        "id": "kWZ4a3uk7lXl"
      },
      "source": [
        "X_train_preds = grid_combi.predict(X_train_combi)\n",
        "X_val_preds = grid_combi.predict(X_val_combi)"
      ],
      "execution_count": null,
      "outputs": []
    },
    {
      "cell_type": "code",
      "metadata": {
        "id": "Aqe6TFAu7m-Y",
        "colab": {
          "base_uri": "https://localhost:8080/",
          "height": 50
        },
        "outputId": "f034c85a-a877-4653-e90d-9f48b089297c"
      },
      "source": [
        "print('training data rmse: {}'.format(sqrt(mean_squared_error(y_train_text, X_train_preds))))\n",
        "print('Validation data rmse: {}'.format(sqrt(mean_squared_error(y_val_text, X_val_preds))))"
      ],
      "execution_count": null,
      "outputs": [
        {
          "output_type": "stream",
          "text": [
            "training data rmse: 1.6993693352815036\n",
            "Validation data rmse: 1.7156354819273751\n"
          ],
          "name": "stdout"
        }
      ]
    },
    {
      "cell_type": "code",
      "metadata": {
        "id": "WunuNXWK7oUn"
      },
      "source": [
        "filename = 'wine_quality_allfeatures.sav'\n",
        "pickle.dump(grid_combi, open(filename, 'wb'))"
      ],
      "execution_count": null,
      "outputs": []
    },
    {
      "cell_type": "markdown",
      "metadata": {
        "id": "NMbbo7LzKCdQ"
      },
      "source": [
        "# Now we will try using Pre-trained Word Vectors\n"
      ]
    },
    {
      "cell_type": "markdown",
      "metadata": {
        "id": "Wh7rTdgHKJDD"
      },
      "source": [
        "## Pretrained Glove"
      ]
    },
    {
      "cell_type": "code",
      "metadata": {
        "id": "VrE1HjkqKMEE"
      },
      "source": [
        "embeddings_dict = {}\n",
        "with open(folder/\"glove.6B.100d.txt\", 'r') as f:\n",
        "    for line in f:\n",
        "        values = line.split()\n",
        "        word = values[0]\n",
        "        vector = np.asarray(values[1:], \"float32\")\n",
        "        embeddings_dict[word] = vector"
      ],
      "execution_count": 49,
      "outputs": []
    },
    {
      "cell_type": "code",
      "metadata": {
        "id": "fuVgRwx6LViq",
        "colab": {
          "base_uri": "https://localhost:8080/"
        },
        "outputId": "a367f98c-146e-4ed6-a49b-b20c5d7e7f0b"
      },
      "source": [
        "embeddings_dict[\"wine\"]"
      ],
      "execution_count": 50,
      "outputs": [
        {
          "output_type": "execute_result",
          "data": {
            "text/plain": [
              "array([-0.47653  ,  0.42094  ,  0.17424  , -0.055753 ,  0.20437  ,\n",
              "        0.36403  ,  1.0813   ,  0.32602  ,  0.096341 , -0.44363  ,\n",
              "       -0.74458  , -0.6448   , -0.27985  ,  0.2217   , -1.0897   ,\n",
              "        0.202    ,  0.8254   , -0.52245  , -0.72036  ,  0.81185  ,\n",
              "       -0.69102  ,  0.1812   , -0.32257  , -0.83526  , -0.17702  ,\n",
              "        0.57224  , -0.34872  , -0.72935  , -0.42368  , -1.06     ,\n",
              "       -0.18188  , -0.084373 ,  0.062678 , -1.3184   ,  0.57558  ,\n",
              "        1.197    ,  0.30817  ,  0.10862  ,  0.22514  , -0.62833  ,\n",
              "        0.091748 , -0.82288  , -0.049971 , -0.86486  ,  1.0282   ,\n",
              "       -0.1852   , -0.69624  , -0.86056  ,  0.22834  , -0.95931  ,\n",
              "        0.71462  , -0.05277  , -0.6747   ,  0.044696 , -1.131    ,\n",
              "       -1.5243   , -1.0981   ,  0.57741  ,  1.2551   , -0.64939  ,\n",
              "        0.59221  ,  0.69888  ,  0.14731  , -0.014479 , -0.036558 ,\n",
              "       -0.55963  ,  0.72571  , -0.85365  ,  0.86099  , -0.7257   ,\n",
              "        0.21203  ,  0.97805  ,  0.78385  ,  0.24171  , -0.38193  ,\n",
              "       -0.25032  , -0.12833  , -0.80771  , -0.41962  ,  0.23718  ,\n",
              "        0.29573  ,  0.067321 , -0.77306  ,  0.60458  ,  0.0396   ,\n",
              "       -0.45494  , -0.62801  , -0.58062  , -0.22882  , -0.28663  ,\n",
              "       -0.50022  ,  0.0091976, -0.5545   , -0.91515  , -0.9261   ,\n",
              "        0.45414  , -0.63984  , -0.54451  ,  0.80343  ,  0.50083  ],\n",
              "      dtype=float32)"
            ]
          },
          "metadata": {
            "tags": []
          },
          "execution_count": 50
        }
      ]
    },
    {
      "cell_type": "code",
      "metadata": {
        "id": "qA2u8q4MLYAg"
      },
      "source": [
        "public_glove_vector = pd.read_csv(folder/\"public.csv\")\n",
        "private_glove_vector = pd.read_csv(folder/\"private.csv\")\n",
        "train_glove_vector = pd.read_csv(folder/\"train.csv\")"
      ],
      "execution_count": 51,
      "outputs": []
    },
    {
      "cell_type": "code",
      "metadata": {
        "id": "KiFLFciGLZ3B"
      },
      "source": [
        "train_glove_vector=train_glove_vector.drop_duplicates(['description','title'])\n",
        "train_glove_vector=train_glove_vector.reset_index(drop=True)"
      ],
      "execution_count": 52,
      "outputs": []
    },
    {
      "cell_type": "code",
      "metadata": {
        "id": "O-3VXlufLbly"
      },
      "source": [
        "train_glove_vector = train_glove_vector[[\"description\",\"points\"]]"
      ],
      "execution_count": 53,
      "outputs": []
    },
    {
      "cell_type": "code",
      "metadata": {
        "id": "MmYrWGWfLhEm",
        "colab": {
          "base_uri": "https://localhost:8080/"
        },
        "outputId": "98b1a0d4-c01c-4e4d-a69b-742adddd2313"
      },
      "source": [
        "from sklearn.model_selection import train_test_split\n",
        "X_train, X_val, y_train, y_val = train_test_split(train_glove_vector.drop(['points'], axis=1),\n",
        "                                                    train_glove_vector['points'],\n",
        "                                                    test_size=0.2,\n",
        "                                                    random_state=0)\n",
        "\n",
        "X_train.shape, X_val.shape"
      ],
      "execution_count": 54,
      "outputs": [
        {
          "output_type": "execute_result",
          "data": {
            "text/plain": [
              "((68139, 1), (17035, 1))"
            ]
          },
          "metadata": {
            "tags": []
          },
          "execution_count": 54
        }
      ]
    },
    {
      "cell_type": "code",
      "metadata": {
        "id": "DXYjt31PLlr8"
      },
      "source": [
        "def GetAverageFeatureVectors(words, model, num_features):\n",
        "    featureVec = np.zeros(num_features,dtype=\"float32\")\n",
        "    nwords = 0\n",
        "    for word in  words:\n",
        "        if word in model:\n",
        "            nwords = nwords + 1\n",
        "            featureVec = np.add(featureVec,model[word])\n",
        "    return featureVec"
      ],
      "execution_count": 81,
      "outputs": []
    },
    {
      "cell_type": "code",
      "metadata": {
        "id": "2G2vl0LeLnly"
      },
      "source": [
        "\n",
        "def GetfeatureVectors(reviews, model, num_features):\n",
        "    counter = 0\n",
        "    reviewFeatureVecs = np.zeros((len(reviews),num_features),dtype=\"float32\")    \n",
        "    for review in reviews:        \n",
        "        reviewFeatureVecs[counter] = GetAverageFeatureVectors(review, model, num_features)\n",
        "        counter = counter+1\n",
        "    return reviewFeatureVecs"
      ],
      "execution_count": 80,
      "outputs": []
    },
    {
      "cell_type": "code",
      "metadata": {
        "id": "p67O2NVmLpUu"
      },
      "source": [
        "def review_wordlist(review, remove_stopwords=False):\n",
        "    # 1. Removing html tags\n",
        "    review_text = BeautifulSoup(review).get_text()\n",
        "    # 2. Removing non-letter.\n",
        "    review_text = re.sub(\"[^a-zA-Z]\",\" \",review_text)\n",
        "    # 3. Converting to lower case and splitting\n",
        "    words = review_text.lower().split()\n",
        "    # 4. Optionally remove stopwords\n",
        "    if remove_stopwords:\n",
        "        stops = set(stopwords.words(\"english\"))     \n",
        "        words = [w for w in words if not w in stops]\n",
        "    return(words)"
      ],
      "execution_count": 82,
      "outputs": []
    },
    {
      "cell_type": "code",
      "metadata": {
        "id": "NM2vqt0ALs62"
      },
      "source": [
        "# We have used glove embedding with 100d \n",
        "num_features = 100\n",
        "model = embeddings_dict"
      ],
      "execution_count": 83,
      "outputs": []
    },
    {
      "cell_type": "code",
      "metadata": {
        "id": "8nhsCphbLunW"
      },
      "source": [
        "from bs4 import BeautifulSoup \n",
        "clean_train_reviews = []\n",
        "for review in X_train['description']:\n",
        "    clean_train_reviews.append(review_wordlist(review, remove_stopwords=True))"
      ],
      "execution_count": 84,
      "outputs": []
    },
    {
      "cell_type": "code",
      "metadata": {
        "colab": {
          "base_uri": "https://localhost:8080/",
          "height": 52
        },
        "id": "Lyz5qVUbT9AU",
        "outputId": "2579289d-060d-4a3b-e0c2-e6c94b15f8dc"
      },
      "source": [
        "X_train['description'][26854]"
      ],
      "execution_count": 66,
      "outputs": [
        {
          "output_type": "execute_result",
          "data": {
            "application/vnd.google.colaboratory.intrinsic+json": {
              "type": "string"
            },
            "text/plain": [
              "\"Olive and woodspice outmuscle vivid fruit aromas on the nose. The palate is a bit raw and drawing, but it's fresh. Spicy oak adds depth to racy plum and raspberry flavors, with heat stepping in on the finish. Overall this is a fresh, lively version of Carmenère.\""
            ]
          },
          "metadata": {
            "tags": []
          },
          "execution_count": 66
        }
      ]
    },
    {
      "cell_type": "code",
      "metadata": {
        "colab": {
          "base_uri": "https://localhost:8080/"
        },
        "id": "_f7I2cgWT1JB",
        "outputId": "0ce96d28-4c65-4e94-adb1-c296bc4daca8"
      },
      "source": [
        "clean_train_reviews[0]"
      ],
      "execution_count": 61,
      "outputs": [
        {
          "output_type": "execute_result",
          "data": {
            "text/plain": [
              "['olive',\n",
              " 'woodspice',\n",
              " 'outmuscle',\n",
              " 'vivid',\n",
              " 'fruit',\n",
              " 'aromas',\n",
              " 'nose',\n",
              " 'palate',\n",
              " 'bit',\n",
              " 'raw',\n",
              " 'drawing',\n",
              " 'fresh',\n",
              " 'spicy',\n",
              " 'oak',\n",
              " 'adds',\n",
              " 'depth',\n",
              " 'racy',\n",
              " 'plum',\n",
              " 'raspberry',\n",
              " 'flavors',\n",
              " 'heat',\n",
              " 'stepping',\n",
              " 'finish',\n",
              " 'overall',\n",
              " 'fresh',\n",
              " 'lively',\n",
              " 'version',\n",
              " 'carmen']"
            ]
          },
          "metadata": {
            "tags": []
          },
          "execution_count": 61
        }
      ]
    },
    {
      "cell_type": "code",
      "metadata": {
        "id": "bPIKip97LwtJ"
      },
      "source": [
        "trainDataVecs = GetfeatureVectors(clean_train_reviews, model, num_features)"
      ],
      "execution_count": 85,
      "outputs": []
    },
    {
      "cell_type": "code",
      "metadata": {
        "id": "7zvbvM_7MGnZ"
      },
      "source": [
        "clean_val_reviews = []\n",
        "for review in X_val['description']:\n",
        "    clean_val_reviews.append(review_wordlist(review, remove_stopwords=True))"
      ],
      "execution_count": 86,
      "outputs": []
    },
    {
      "cell_type": "code",
      "metadata": {
        "id": "syTt8CiLMLZJ"
      },
      "source": [
        "valDataVecs = GetfeatureVectors(clean_val_reviews, model, num_features)"
      ],
      "execution_count": 87,
      "outputs": []
    },
    {
      "cell_type": "code",
      "metadata": {
        "id": "RwXRG31sMNlx",
        "colab": {
          "base_uri": "https://localhost:8080/"
        },
        "outputId": "a0b636b1-469f-44d0-801e-d5e879e7ac3c"
      },
      "source": [
        "ridge = Ridge()\n",
        "\n",
        "#define a list of parameters\n",
        "param_ridge = {'alpha':[1,10,50,100] }\n",
        "\n",
        "grid_glove = GridSearchCV(ridge, param_ridge, cv=5, return_train_score = True)\n",
        "grid_glove.fit(trainDataVecs, y_train)\n",
        "\n",
        "# Mean Cross Validation Score\n",
        "print(\"Best  Cross-validation score: {}\".format(grid_glove.best_score_))\n",
        "\n",
        "print()\n",
        "\n",
        "#find best parameters\n",
        "print('L2 regularized ridge linear regression best parameters: ', grid_glove.best_params_)\n",
        "\n",
        "# print co-eff\n",
        "\n",
        "#print(\"Ridge.coef_:\", grid_ridge.best_estimator_.coef_)\n",
        "#print(\"Ridge.intercept_:\", grid_ridge.best_estimator_.intercept_)\n",
        "\n",
        "# Check test data set performance\n",
        "print(\"L2 regularized ridge linear regression Train Score:\",grid_glove.score(trainDataVecs,y_train))\n",
        "print(\"L2 regularized ridge linear regression Test Score:\",grid_glove.score(valDataVecs,y_val))"
      ],
      "execution_count": 88,
      "outputs": [
        {
          "output_type": "stream",
          "text": [
            "Best  Cross-validation score: 0.49513122481046545\n",
            "\n",
            "L2 regularized ridge linear regression best parameters:  {'alpha': 100}\n",
            "L2 regularized ridge linear regression Train Score: 0.4969255979372185\n",
            "L2 regularized ridge linear regression Test Score: 0.5023905917846687\n"
          ],
          "name": "stdout"
        }
      ]
    },
    {
      "cell_type": "code",
      "metadata": {
        "id": "dSuUDQmXMPnl"
      },
      "source": [
        "X_train_preds = grid_glove.predict(trainDataVecs)\n",
        "X_val_preds = grid_glove.predict(valDataVecs)"
      ],
      "execution_count": 89,
      "outputs": []
    },
    {
      "cell_type": "code",
      "metadata": {
        "id": "2-kYddjkMRfi",
        "colab": {
          "base_uri": "https://localhost:8080/"
        },
        "outputId": "0bf0aba7-329f-4988-d1a5-d58884d9fa4e"
      },
      "source": [
        "print('training data rmse: {}'.format(sqrt(mean_squared_error(y_train_text, X_train_preds))))\n",
        "print('Validation data rmse: {}'.format(sqrt(mean_squared_error(y_val_text, X_val_preds))))"
      ],
      "execution_count": 90,
      "outputs": [
        {
          "output_type": "stream",
          "text": [
            "training data rmse: 2.189261487702083\n",
            "Validation data rmse: 2.1706439574461305\n"
          ],
          "name": "stdout"
        }
      ]
    },
    {
      "cell_type": "code",
      "metadata": {
        "id": "oDdpng6lMTfY"
      },
      "source": [
        "filename = 'wine_quality_pretrained_Glove.sav'\n",
        "pickle.dump(grid_glove, open(filename, 'wb'))"
      ],
      "execution_count": null,
      "outputs": []
    },
    {
      "cell_type": "markdown",
      "metadata": {
        "id": "wXwSr1UCMV2x"
      },
      "source": [
        "Pre Trained embedding with glove vectors has less score compared with the Bag of Words."
      ]
    },
    {
      "cell_type": "markdown",
      "metadata": {
        "id": "UNJ4LAIwMarj"
      },
      "source": [
        "## Let us Combine Glove and BOW approach"
      ]
    },
    {
      "cell_type": "code",
      "metadata": {
        "id": "loSPLeS9MYeD",
        "colab": {
          "base_uri": "https://localhost:8080/",
          "height": 34
        },
        "outputId": "c5a4c515-6910-40d6-f812-9260532ba365"
      },
      "source": [
        "trainDataVecs.shape,X_train_text_new.shape"
      ],
      "execution_count": null,
      "outputs": [
        {
          "output_type": "execute_result",
          "data": {
            "text/plain": [
              "((68139, 100), (68139, 1500))"
            ]
          },
          "metadata": {
            "tags": []
          },
          "execution_count": 185
        }
      ]
    },
    {
      "cell_type": "code",
      "metadata": {
        "id": "sLVqZOU-MeVE"
      },
      "source": [
        "train_concat = X_train_text_new.todense()\n",
        "val_concat = X_val_text_new.todense()"
      ],
      "execution_count": null,
      "outputs": []
    },
    {
      "cell_type": "code",
      "metadata": {
        "id": "t24C4F1-MgLN"
      },
      "source": [
        "train_concat = np.concatenate((train_concat,trainDataVecs),axis = 1)\n",
        "val_concat = np.concatenate((val_concat,valDataVecs),axis = 1)"
      ],
      "execution_count": null,
      "outputs": []
    },
    {
      "cell_type": "code",
      "metadata": {
        "id": "yjb1jCh_Mh_G",
        "colab": {
          "base_uri": "https://localhost:8080/",
          "height": 101
        },
        "outputId": "532d7b66-f121-4ca2-fc0f-62fee972d062"
      },
      "source": [
        "ridge = Ridge()\n",
        "\n",
        "#define a list of parameters\n",
        "param_ridge = {'alpha':[40,50,60,100] }\n",
        "\n",
        "grid_concat = GridSearchCV(ridge, param_ridge, cv=5, return_train_score = True)\n",
        "grid_concat.fit(train_concat, y_train)\n",
        "\n",
        "# Mean Cross Validation Score\n",
        "print(\"Best Mean Cross-validation score: {}\".format(grid_concat.best_score_))\n",
        "\n",
        "print()\n",
        "\n",
        "#find best parameters\n",
        "print('L2 regularized ridge linear regression best parameters: ', grid_concat.best_params_)\n",
        "\n",
        "# print co-eff\n",
        "\n",
        "#print(\"Ridge.coef_:\", grid_ridge.best_estimator_.coef_)\n",
        "#print(\"Ridge.intercept_:\", grid_ridge.best_estimator_.intercept_)\n",
        "\n",
        "# Check test data set performance\n",
        "print(\"L2 regularized ridge linear regression Train Score:\",grid_concat.score(train_concat,y_train))\n",
        "print(\"L2 regularized ridge linear regression Test Score:\",grid_concat.score(val_concat,y_val))"
      ],
      "execution_count": null,
      "outputs": [
        {
          "output_type": "stream",
          "text": [
            "Best Mean Cross-validation score: 0.6599865244549775\n",
            "\n",
            "L2 regularized ridge linear regression best parameters:  {'alpha': 40}\n",
            "L2 regularized ridge linear regression Train Score: 0.6759035273787166\n",
            "L2 regularized ridge linear regression Test Score: 0.6657910118313618\n"
          ],
          "name": "stdout"
        }
      ]
    },
    {
      "cell_type": "code",
      "metadata": {
        "id": "IHHwqI68Mkj7"
      },
      "source": [
        "X_train_preds = grid_concat.predict(train_concat)\n",
        "X_val_preds = grid_concat.predict(val_concat)"
      ],
      "execution_count": null,
      "outputs": []
    },
    {
      "cell_type": "code",
      "metadata": {
        "id": "89Lx77cdNFzb",
        "colab": {
          "base_uri": "https://localhost:8080/",
          "height": 50
        },
        "outputId": "9a2bb710-fdac-4d10-bfae-9094b72dc1d5"
      },
      "source": [
        "print('training data rmse: {}'.format(sqrt(mean_squared_error(y_train_text, X_train_preds))))\n",
        "print('Validation data rmse: {}'.format(sqrt(mean_squared_error(y_val_text, X_val_preds))))"
      ],
      "execution_count": null,
      "outputs": [
        {
          "output_type": "stream",
          "text": [
            "training data rmse: 1.7571898240044677\n",
            "Validation data rmse: 1.7789074951226718\n"
          ],
          "name": "stdout"
        }
      ]
    },
    {
      "cell_type": "code",
      "metadata": {
        "id": "oZWR1pD0NHvC"
      },
      "source": [
        "filename = 'wine_quality_glove_bow.sav'\n",
        "pickle.dump(grid_concat, open(filename, 'wb'))"
      ],
      "execution_count": null,
      "outputs": []
    },
    {
      "cell_type": "markdown",
      "metadata": {
        "id": "L4IcsEhQNJsJ"
      },
      "source": [
        "We will try Custom Embedding(word2vec) skip gram model "
      ]
    },
    {
      "cell_type": "code",
      "metadata": {
        "id": "KxYUoXe7NOEF"
      },
      "source": [
        "public_custom = pd.read_csv(folder/\"public.csv\")\n",
        "private_cusom = pd.read_csv(folder/\"private.csv\")\n",
        "train_custom = pd.read_csv(folder/\"train.csv\")"
      ],
      "execution_count": 91,
      "outputs": []
    },
    {
      "cell_type": "code",
      "metadata": {
        "id": "ryJzmDwKNQNk"
      },
      "source": [
        "train_custom=train_custom.drop_duplicates(['description','title'])\n",
        "train_custom=train_custom.reset_index(drop=True)"
      ],
      "execution_count": 92,
      "outputs": []
    },
    {
      "cell_type": "code",
      "metadata": {
        "id": "SQRjTrS2NRyR"
      },
      "source": [
        "train_custom = train_custom[[\"description\",\"points\"]]"
      ],
      "execution_count": 93,
      "outputs": []
    },
    {
      "cell_type": "code",
      "metadata": {
        "id": "5sbPFDu3NTrX",
        "colab": {
          "base_uri": "https://localhost:8080/"
        },
        "outputId": "7cb42f33-6f49-49bc-e63a-95541bef9213"
      },
      "source": [
        "from sklearn.model_selection import train_test_split\n",
        "X_train, X_val, y_train, y_val = train_test_split(train_custom.drop(['points'], axis=1),\n",
        "                                                    train_custom['points'],\n",
        "                                                    test_size=0.2,\n",
        "                                                    random_state=0)\n",
        "\n",
        "X_train.shape, X_val.shape"
      ],
      "execution_count": 95,
      "outputs": [
        {
          "output_type": "execute_result",
          "data": {
            "text/plain": [
              "((68139, 1), (17035, 1))"
            ]
          },
          "metadata": {
            "tags": []
          },
          "execution_count": 95
        }
      ]
    },
    {
      "cell_type": "code",
      "metadata": {
        "id": "AJw0a5AFNVkV"
      },
      "source": [
        "# we will try skip gram approach\n",
        "from gensim.models import Word2Vec\n",
        "import time\n",
        "# Skip-gram model (sg = 1),sg=0 (CBOW) \n",
        "size = 1000\n",
        "window = 3\n",
        "min_count = 1\n",
        "workers = 3\n",
        "sg = 1"
      ],
      "execution_count": 96,
      "outputs": []
    },
    {
      "cell_type": "code",
      "metadata": {
        "id": "h9IDCWiq3Br0",
        "colab": {
          "base_uri": "https://localhost:8080/"
        },
        "outputId": "b199cc26-3248-400f-d7e0-52c8fcc88129"
      },
      "source": [
        "from gensim.utils import simple_preprocess\n",
        "# Tokenize the text column to get the new column 'tokenized_text'\n",
        "train_custom['tokenized_text'] = [simple_preprocess(line, deacc=True) for line in train_custom['description']] \n",
        "print(train_custom['tokenized_text'].head(10))"
      ],
      "execution_count": 97,
      "outputs": [
        {
          "output_type": "stream",
          "text": [
            "0    [buoyant, wine, this, has, delicious, acidity,...\n",
            "1    [despite, weighing, in, at, alcohol, this, see...\n",
            "2    [sweet, simple, and, fruity, this, light, bodi...\n",
            "3    [tastes, like, sweet, and, sour, sauce, mixed,...\n",
            "4    [as, one, liter, package, you, get, one, third...\n",
            "5    [this, is, really, drinkable, pinot, noir, it,...\n",
            "6    [structured, and, elegant, this, opens, with, ...\n",
            "7    [staunch, but, murky, aromas, of, coffee, grou...\n",
            "8    [good, everyday, merlot, that, dry, and, softl...\n",
            "9    [you, ll, love, this, if, you, like, your, zin...\n",
            "Name: tokenized_text, dtype: object\n"
          ],
          "name": "stdout"
        }
      ]
    },
    {
      "cell_type": "code",
      "metadata": {
        "id": "rSxjhof93pHJ",
        "colab": {
          "base_uri": "https://localhost:8080/"
        },
        "outputId": "c8220d05-c60f-4a17-e578-f6576b260b92"
      },
      "source": [
        "start_time = time.time()\n",
        "stemmed_tokens = pd.Series(train_custom['tokenized_text']).values\n",
        "# Train the Word2Vec Model\n",
        "w2v_model = Word2Vec(stemmed_tokens, min_count = min_count, size = size, workers = workers, window = window, sg = sg)\n",
        "print(\"Time taken to train word2vec model: \" + str(time.time() - start_time))"
      ],
      "execution_count": 98,
      "outputs": [
        {
          "output_type": "stream",
          "text": [
            "Time taken to train word2vec model: 158.21604824066162\n"
          ],
          "name": "stdout"
        }
      ]
    },
    {
      "cell_type": "code",
      "metadata": {
        "id": "wNfx0HOS3qg9"
      },
      "source": [
        "import warnings\n",
        "warnings.filterwarnings('ignore')\n",
        "w2v_model.save(\"Custom_word2vec.model\")"
      ],
      "execution_count": 99,
      "outputs": []
    },
    {
      "cell_type": "code",
      "metadata": {
        "id": "ZTVEYdci39sl"
      },
      "source": [
        "num_features = 1000\n",
        "model = w2v_model"
      ],
      "execution_count": 100,
      "outputs": []
    },
    {
      "cell_type": "code",
      "metadata": {
        "id": "xS7xts0j3_Nm"
      },
      "source": [
        "clean_train_custom = []\n",
        "for review in X_train['description']:\n",
        "    clean_train_custom.append(review_wordlist(review, remove_stopwords=True))\n"
      ],
      "execution_count": 101,
      "outputs": []
    },
    {
      "cell_type": "code",
      "metadata": {
        "id": "6hk4KXL_4nTg"
      },
      "source": [
        "train_Custom_data = GetfeatureVectors(clean_train_custom, model, num_features)"
      ],
      "execution_count": 102,
      "outputs": []
    },
    {
      "cell_type": "code",
      "metadata": {
        "id": "hpbGMGPc46Yu"
      },
      "source": [
        "clean_val_custom = []\n",
        "for review in X_val['description']:\n",
        "    clean_val_custom.append(review_wordlist(review, remove_stopwords=True))\n"
      ],
      "execution_count": 103,
      "outputs": []
    },
    {
      "cell_type": "code",
      "metadata": {
        "id": "-UI1ciER48NQ"
      },
      "source": [
        "validation_custom_Data = GetfeatureVectors(clean_val_custom, model, num_features)"
      ],
      "execution_count": 104,
      "outputs": []
    },
    {
      "cell_type": "code",
      "metadata": {
        "id": "7WvLvMGt4-UP",
        "colab": {
          "base_uri": "https://localhost:8080/"
        },
        "outputId": "1d95448b-016e-4a42-c69e-f13edeae88f7"
      },
      "source": [
        "ridge = Ridge()\n",
        "\n",
        "#define a list of parameters\n",
        "param_ridge = {'alpha':[1,10,50,100] }\n",
        "\n",
        "grid_custom = GridSearchCV(ridge, param_ridge, cv=5, return_train_score = True)\n",
        "grid_custom.fit(train_Custom_data, y_train)\n",
        "\n",
        "# Mean Cross Validation Score\n",
        "print(\"Best Mean Cross-validation score: {}\".format(grid_custom.best_score_))\n",
        "\n",
        "print()\n",
        "\n",
        "#find best parameters\n",
        "print('L2 regularized ridge linear regression best parameters: ', grid_custom.best_params_)\n",
        "\n",
        "\n",
        "# Check test data set performance\n",
        "print(\"L2 regularized ridge linear regression Train Score:\",grid_custom.score(train_Custom_data,y_train))\n",
        "print(\"L2 regularized ridge linear regression Test Score:\",grid_custom.score(validation_custom_Data,y_val))"
      ],
      "execution_count": 105,
      "outputs": [
        {
          "output_type": "stream",
          "text": [
            "Best Mean Cross-validation score: 0.6523268980189398\n",
            "\n",
            "L2 regularized ridge linear regression best parameters:  {'alpha': 1}\n",
            "L2 regularized ridge linear regression Train Score: 0.6593360568062963\n",
            "L2 regularized ridge linear regression Test Score: 0.6579790749897969\n"
          ],
          "name": "stdout"
        }
      ]
    },
    {
      "cell_type": "code",
      "metadata": {
        "id": "6GS8NkSn5xay"
      },
      "source": [
        "X_train_preds = grid_custom.predict(train_Custom_data)\n",
        "X_val_preds = grid_custom.predict(validation_custom_Data)"
      ],
      "execution_count": 106,
      "outputs": []
    },
    {
      "cell_type": "code",
      "metadata": {
        "id": "entvAy9n5yd7",
        "colab": {
          "base_uri": "https://localhost:8080/"
        },
        "outputId": "67dd1192-0a9f-4c19-893f-59aa18a6a8d8"
      },
      "source": [
        "print('training data rmse: {}'.format(sqrt(mean_squared_error(y_train_text, X_train_preds))))\n",
        "print('Validation data rmse: {}'.format(sqrt(mean_squared_error(y_val_text, X_val_preds))))"
      ],
      "execution_count": 107,
      "outputs": [
        {
          "output_type": "stream",
          "text": [
            "training data rmse: 1.8015429147493858\n",
            "Validation data rmse: 1.7995778571883354\n"
          ],
          "name": "stdout"
        }
      ]
    },
    {
      "cell_type": "code",
      "metadata": {
        "id": "esf3TAeJchu9"
      },
      "source": [
        ""
      ],
      "execution_count": null,
      "outputs": []
    }
  ]
}